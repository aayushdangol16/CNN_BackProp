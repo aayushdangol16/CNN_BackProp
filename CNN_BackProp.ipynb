{
  "nbformat": 4,
  "nbformat_minor": 0,
  "metadata": {
    "colab": {
      "provenance": []
    },
    "kernelspec": {
      "name": "python3",
      "display_name": "Python 3"
    },
    "language_info": {
      "name": "python"
    }
  },
  "cells": [
    {
      "cell_type": "code",
      "execution_count": 1,
      "metadata": {
        "id": "U1XoiiYeX1Cz"
      },
      "outputs": [],
      "source": [
        "import torch\n",
        "import matplotlib.pyplot as plt\n",
        "from torchvision import datasets,transforms\n",
        "import torch.nn as nn\n",
        "import torch.nn.functional as F\n",
        "from torch.utils.data import DataLoader"
      ]
    },
    {
      "cell_type": "code",
      "source": [
        "transform = transforms.Compose([transforms.ToTensor()])\n",
        "train_data = datasets.MNIST(root='./data', train=True, download=True, transform=transform)\n",
        "test_data = datasets.MNIST(root='./data', train=False, download=True, transform=transform)"
      ],
      "metadata": {
        "collapsed": true,
        "id": "t7r5eYzi8Trf",
        "colab": {
          "base_uri": "https://localhost:8080/"
        },
        "outputId": "cece8acb-4eac-491b-b78d-9acf4e201dcf"
      },
      "execution_count": 2,
      "outputs": [
        {
          "output_type": "stream",
          "name": "stdout",
          "text": [
            "Downloading http://yann.lecun.com/exdb/mnist/train-images-idx3-ubyte.gz\n",
            "Failed to download (trying next):\n",
            "HTTP Error 403: Forbidden\n",
            "\n",
            "Downloading https://ossci-datasets.s3.amazonaws.com/mnist/train-images-idx3-ubyte.gz\n",
            "Downloading https://ossci-datasets.s3.amazonaws.com/mnist/train-images-idx3-ubyte.gz to ./data/MNIST/raw/train-images-idx3-ubyte.gz\n"
          ]
        },
        {
          "output_type": "stream",
          "name": "stderr",
          "text": [
            "100%|██████████| 9.91M/9.91M [00:00<00:00, 60.8MB/s]\n"
          ]
        },
        {
          "output_type": "stream",
          "name": "stdout",
          "text": [
            "Extracting ./data/MNIST/raw/train-images-idx3-ubyte.gz to ./data/MNIST/raw\n",
            "\n",
            "Downloading http://yann.lecun.com/exdb/mnist/train-labels-idx1-ubyte.gz\n",
            "Failed to download (trying next):\n",
            "HTTP Error 403: Forbidden\n",
            "\n",
            "Downloading https://ossci-datasets.s3.amazonaws.com/mnist/train-labels-idx1-ubyte.gz\n",
            "Downloading https://ossci-datasets.s3.amazonaws.com/mnist/train-labels-idx1-ubyte.gz to ./data/MNIST/raw/train-labels-idx1-ubyte.gz\n"
          ]
        },
        {
          "output_type": "stream",
          "name": "stderr",
          "text": [
            "100%|██████████| 28.9k/28.9k [00:00<00:00, 1.98MB/s]"
          ]
        },
        {
          "output_type": "stream",
          "name": "stdout",
          "text": [
            "Extracting ./data/MNIST/raw/train-labels-idx1-ubyte.gz to ./data/MNIST/raw\n",
            "\n",
            "Downloading http://yann.lecun.com/exdb/mnist/t10k-images-idx3-ubyte.gz\n"
          ]
        },
        {
          "output_type": "stream",
          "name": "stderr",
          "text": [
            "\n"
          ]
        },
        {
          "output_type": "stream",
          "name": "stdout",
          "text": [
            "Failed to download (trying next):\n",
            "HTTP Error 403: Forbidden\n",
            "\n",
            "Downloading https://ossci-datasets.s3.amazonaws.com/mnist/t10k-images-idx3-ubyte.gz\n",
            "Downloading https://ossci-datasets.s3.amazonaws.com/mnist/t10k-images-idx3-ubyte.gz to ./data/MNIST/raw/t10k-images-idx3-ubyte.gz\n"
          ]
        },
        {
          "output_type": "stream",
          "name": "stderr",
          "text": [
            "100%|██████████| 1.65M/1.65M [00:00<00:00, 12.6MB/s]\n"
          ]
        },
        {
          "output_type": "stream",
          "name": "stdout",
          "text": [
            "Extracting ./data/MNIST/raw/t10k-images-idx3-ubyte.gz to ./data/MNIST/raw\n",
            "\n",
            "Downloading http://yann.lecun.com/exdb/mnist/t10k-labels-idx1-ubyte.gz\n",
            "Failed to download (trying next):\n",
            "HTTP Error 403: Forbidden\n",
            "\n",
            "Downloading https://ossci-datasets.s3.amazonaws.com/mnist/t10k-labels-idx1-ubyte.gz\n",
            "Downloading https://ossci-datasets.s3.amazonaws.com/mnist/t10k-labels-idx1-ubyte.gz to ./data/MNIST/raw/t10k-labels-idx1-ubyte.gz\n"
          ]
        },
        {
          "output_type": "stream",
          "name": "stderr",
          "text": [
            "100%|██████████| 4.54k/4.54k [00:00<00:00, 8.49MB/s]"
          ]
        },
        {
          "output_type": "stream",
          "name": "stdout",
          "text": [
            "Extracting ./data/MNIST/raw/t10k-labels-idx1-ubyte.gz to ./data/MNIST/raw\n",
            "\n"
          ]
        },
        {
          "output_type": "stream",
          "name": "stderr",
          "text": [
            "\n"
          ]
        }
      ]
    },
    {
      "cell_type": "code",
      "source": [
        "train_loader = DataLoader(train_data, batch_size=4, shuffle=True)\n",
        "data=iter(train_loader)\n",
        "test_data,test_label=next(data)"
      ],
      "metadata": {
        "id": "HdVcyM2Bpx0k"
      },
      "execution_count": 3,
      "outputs": []
    },
    {
      "cell_type": "code",
      "source": [
        "test_data.shape,test_label.shape"
      ],
      "metadata": {
        "colab": {
          "base_uri": "https://localhost:8080/"
        },
        "id": "ZUjU0htqqG6y",
        "outputId": "c5daa624-1dbc-4524-9da8-ab1c3d6f4f39"
      },
      "execution_count": 4,
      "outputs": [
        {
          "output_type": "execute_result",
          "data": {
            "text/plain": [
              "(torch.Size([4, 1, 28, 28]), torch.Size([4]))"
            ]
          },
          "metadata": {},
          "execution_count": 4
        }
      ]
    },
    {
      "cell_type": "code",
      "source": [
        "def cmp(s, dt, t):\n",
        "  ex = torch.all(dt == t.grad).item()\n",
        "  app = torch.allclose(dt, t.grad)\n",
        "  maxdiff = (dt - t.grad).abs().max().item()\n",
        "  print(f'{s:15s} | exact: {str(ex):5s} | approximate: {str(app):5s} | maxdiff: {maxdiff}')"
      ],
      "metadata": {
        "id": "R3E5cfOu290t"
      },
      "execution_count": 5,
      "outputs": []
    },
    {
      "cell_type": "code",
      "source": [
        "# conv=nn.Conv2d(in_channels=1,out_channels=6,kernel_size=3,stride=1)\n",
        "# maxpool=nn.MaxPool2d(kernel_size=2,stride=2)\n",
        "# fc1=nn.Linear(in_features=1014,out_features=500)\n",
        "# fc2=nn.Linear(in_features=500,out_features=10)\n",
        "\n",
        "# x=F.relu(conv(test_data))\n",
        "# x=maxpool(x)\n",
        "# x=torch.flatten(x,start_dim=0)\n",
        "# x=F.relu(fc1(x))\n",
        "# x=fc2(x)"
      ],
      "metadata": {
        "id": "77iGup7gozZf"
      },
      "execution_count": 6,
      "outputs": []
    },
    {
      "cell_type": "code",
      "source": [
        "# out=conv(test_data)"
      ],
      "metadata": {
        "id": "G19NlrlKBN3D"
      },
      "execution_count": 7,
      "outputs": []
    },
    {
      "cell_type": "code",
      "source": [
        "# out.shape"
      ],
      "metadata": {
        "id": "Ar7j4CwbpgSQ"
      },
      "execution_count": 8,
      "outputs": []
    },
    {
      "cell_type": "code",
      "source": [
        "# relu_out=F.relu(out)\n",
        "# relu_out.shape"
      ],
      "metadata": {
        "id": "PB4YkzorHQj0"
      },
      "execution_count": 9,
      "outputs": []
    },
    {
      "cell_type": "code",
      "source": [
        "# maxpool=nn.MaxPool2d(kernel_size=2,stride=2)\n",
        "# pool_out=maxpool(relu_out)\n",
        "# pool_out.shape"
      ],
      "metadata": {
        "id": "OX4uZjeNH2pE"
      },
      "execution_count": 10,
      "outputs": []
    },
    {
      "cell_type": "code",
      "source": [
        "# flatten_out=torch.flatten(pool_out,start_dim=1)\n",
        "# flatten_out.shape"
      ],
      "metadata": {
        "id": "fx3EKw99JOdL"
      },
      "execution_count": 11,
      "outputs": []
    },
    {
      "cell_type": "code",
      "source": [
        "# fc1=nn.Linear(in_features=1014,out_features=10)\n",
        "# fc1_out=fc1(flatten_out)\n",
        "# fc1_out.shape"
      ],
      "metadata": {
        "id": "YG9HM91JKI4z"
      },
      "execution_count": 12,
      "outputs": []
    },
    {
      "cell_type": "code",
      "source": [
        "def relu(z):\n",
        "  return torch.where(z<=0,0,z)"
      ],
      "metadata": {
        "id": "r0TXhPE5XtC7"
      },
      "execution_count": 13,
      "outputs": []
    },
    {
      "cell_type": "code",
      "source": [
        "def softmax(z):\n",
        "  return(torch.exp(z)/(torch.exp(z).sum(dim=1,keepdim=True)))"
      ],
      "metadata": {
        "id": "HfUl5fG08pRT"
      },
      "execution_count": 14,
      "outputs": []
    },
    {
      "cell_type": "markdown",
      "source": [
        "# Manually Backpropagation on 1 Image"
      ],
      "metadata": {
        "id": "E-boLLvG2QAa"
      }
    },
    {
      "cell_type": "code",
      "source": [
        "test_data.shape"
      ],
      "metadata": {
        "colab": {
          "base_uri": "https://localhost:8080/"
        },
        "id": "cWGFJPlbBhoV",
        "outputId": "f07114cc-c9be-4b33-a04c-e2e2d20f48cb"
      },
      "execution_count": 15,
      "outputs": [
        {
          "output_type": "execute_result",
          "data": {
            "text/plain": [
              "torch.Size([4, 1, 28, 28])"
            ]
          },
          "metadata": {},
          "execution_count": 15
        }
      ]
    },
    {
      "cell_type": "code",
      "source": [
        "# for 2D Convolution\n",
        "\n",
        "in_channels=1\n",
        "out_channels=1\n",
        "kernel_size=(3,3)\n",
        "stride=(1,1)\n",
        "\n",
        "batch_size,image_channels,input_dim_hight,input_dim_width=test_data.shape\n",
        "# input_dim_hight=test_data.shape[1]\n",
        "# input_dim_width=test_data.shape[2]\n",
        "kernel_size_hight=kernel_size[0]\n",
        "kernel_size_width=kernel_size[1]\n",
        "stride_hight=stride[0]\n",
        "stride_width=stride[1]\n",
        "\n",
        "filters=torch.randn(out_channels,in_channels,kernel_size_hight,kernel_size_width)*0.01\n",
        "filters.requires_grad_(True)\n",
        "\n",
        "conv_out_dim_hight=((input_dim_hight-kernel_size_hight)//stride_hight)+1\n",
        "conv_out_dim_width=((input_dim_width-kernel_size_width)//stride_width)+1\n",
        "\n",
        "conv_out=torch.zeros(batch_size,out_channels,conv_out_dim_hight,conv_out_dim_width)\n",
        "\n",
        "for b in range(batch_size):\n",
        "  for i in range(filters.shape[0]):\n",
        "    y_tmp=y_out=0\n",
        "    while y_tmp+kernel_size_hight <= input_dim_hight:\n",
        "      x_tmp=x_out=0\n",
        "      while x_tmp+kernel_size_width <= input_dim_width:\n",
        "        patch=test_data[b,:,y_tmp:y_tmp+kernel_size_hight,x_tmp:x_tmp+kernel_size_width]\n",
        "        conv_out[b,i,y_out,x_out]=torch.sum(filters[i]*patch)\n",
        "        x_tmp += stride_width\n",
        "        x_out +=1\n",
        "      y_tmp +=stride_hight\n",
        "      y_out +=1"
      ],
      "metadata": {
        "id": "YIKScNOBBIdU"
      },
      "execution_count": 16,
      "outputs": []
    },
    {
      "cell_type": "code",
      "source": [
        "conv_out.shape"
      ],
      "metadata": {
        "colab": {
          "base_uri": "https://localhost:8080/"
        },
        "id": "vE4C8xUx9MMg",
        "outputId": "56fcdaf4-0446-40e5-b435-47e1647df5cc"
      },
      "execution_count": 17,
      "outputs": [
        {
          "output_type": "execute_result",
          "data": {
            "text/plain": [
              "torch.Size([4, 1, 26, 26])"
            ]
          },
          "metadata": {},
          "execution_count": 17
        }
      ]
    },
    {
      "cell_type": "code",
      "source": [
        "relu_conv_out=relu(conv_out)"
      ],
      "metadata": {
        "id": "qs9H8fpaZCSu"
      },
      "execution_count": 18,
      "outputs": []
    },
    {
      "cell_type": "code",
      "source": [
        "relu_conv_out.shape"
      ],
      "metadata": {
        "colab": {
          "base_uri": "https://localhost:8080/"
        },
        "id": "AK4zxTcaZKE5",
        "outputId": "6de40ceb-6b13-4ab1-b530-0efea7e1f1e1"
      },
      "execution_count": 19,
      "outputs": [
        {
          "output_type": "execute_result",
          "data": {
            "text/plain": [
              "torch.Size([4, 1, 26, 26])"
            ]
          },
          "metadata": {},
          "execution_count": 19
        }
      ]
    },
    {
      "cell_type": "code",
      "source": [
        "# 2D Max-Pooling\n",
        "\n",
        "pool_kernel_size=(2,2)\n",
        "pool_stride=(2,2)\n",
        "\n",
        "pool_kernel_size_height=pool_kernel_size[0]\n",
        "pool_kernel_size_width=pool_kernel_size[1]\n",
        "pool_stride_height=pool_stride[0]\n",
        "pool_stride_width=pool_stride[1]\n",
        "\n",
        "batch_size,num_channel,height,width=relu_conv_out.shape\n",
        "\n",
        "pool_out_dim_height=((height-pool_kernel_size_height)//pool_stride_height)+1\n",
        "pool_out_dim_width=((width-pool_kernel_size_width)//pool_stride_width)+1\n",
        "\n",
        "pool_conv_out=torch.zeros(batch_size,num_channel,pool_out_dim_height,pool_out_dim_width)\n",
        "\n",
        "\n",
        "\n",
        "\n",
        "for b in range(batch_size):\n",
        "  for i in range(num_channel):\n",
        "    y_tmp=y_out=0\n",
        "    while y_tmp+pool_kernel_size_height <= height:\n",
        "      x_tmp=x_out=0\n",
        "      while x_tmp+pool_kernel_size_width <= width:\n",
        "        patch=relu_conv_out[b,i,y_tmp:y_tmp+pool_kernel_size_height,x_tmp:x_tmp+pool_kernel_size_width]\n",
        "\n",
        "        pool_conv_out[b,i,y_out,x_out]=torch.max(patch)\n",
        "        x_tmp += pool_stride_width\n",
        "        x_out +=1\n",
        "      y_tmp += pool_stride_height\n",
        "      y_out +=1"
      ],
      "metadata": {
        "id": "ZYta1_sBHjxT"
      },
      "execution_count": 20,
      "outputs": []
    },
    {
      "cell_type": "code",
      "source": [
        "pool_conv_out.shape"
      ],
      "metadata": {
        "colab": {
          "base_uri": "https://localhost:8080/"
        },
        "id": "3vOZGlwHI16M",
        "outputId": "27e1834d-d65b-429e-e1b8-f6e22b5e192b"
      },
      "execution_count": 21,
      "outputs": [
        {
          "output_type": "execute_result",
          "data": {
            "text/plain": [
              "torch.Size([4, 1, 13, 13])"
            ]
          },
          "metadata": {},
          "execution_count": 21
        }
      ]
    },
    {
      "cell_type": "code",
      "source": [
        "flatten_conv_out=torch.flatten(pool_conv_out,start_dim=1)\n",
        "flatten_conv_out.shape"
      ],
      "metadata": {
        "id": "l9ekBULfUVAc",
        "colab": {
          "base_uri": "https://localhost:8080/"
        },
        "outputId": "531d43d9-9df1-420f-bc71-3b6fcb8030c6"
      },
      "execution_count": 22,
      "outputs": [
        {
          "output_type": "execute_result",
          "data": {
            "text/plain": [
              "torch.Size([4, 169])"
            ]
          },
          "metadata": {},
          "execution_count": 22
        }
      ]
    },
    {
      "cell_type": "code",
      "source": [
        "w1=torch.randn(flatten_conv_out.shape[1],10)*0.01\n",
        "w1.requires_grad_(True)\n",
        "b1=torch.randn(1,10)*0.01\n",
        "b1.requires_grad_(True)\n"
      ],
      "metadata": {
        "colab": {
          "base_uri": "https://localhost:8080/"
        },
        "id": "VdiTMtV8V366",
        "outputId": "984a8eb9-300b-4831-e220-c2e7a21ccece"
      },
      "execution_count": 23,
      "outputs": [
        {
          "output_type": "execute_result",
          "data": {
            "text/plain": [
              "tensor([[ 0.0145,  0.0081,  0.0008,  0.0137, -0.0010, -0.0025, -0.0027,  0.0182,\n",
              "         -0.0016, -0.0009]], requires_grad=True)"
            ]
          },
          "metadata": {},
          "execution_count": 23
        }
      ]
    },
    {
      "cell_type": "code",
      "source": [
        "z1=flatten_conv_out@w1+b1\n",
        "\n",
        "z1_max=z1.max(1,keepdim=True).values\n",
        "norm_z1=z1-z1_max\n",
        "exp_z1=torch.exp(norm_z1)\n",
        "exp_sum=(exp_z1.sum(dim=1,keepdim=True))\n",
        "exp_sum_inv=exp_sum**-1\n",
        "probs=exp_z1*exp_sum_inv\n",
        "logprobs=torch.log(probs)\n",
        "loss=-logprobs[range(len(test_data)),test_label].mean()"
      ],
      "metadata": {
        "id": "cgEu_kAsXZ0d"
      },
      "execution_count": 24,
      "outputs": []
    },
    {
      "cell_type": "code",
      "source": [
        "z1.shape"
      ],
      "metadata": {
        "colab": {
          "base_uri": "https://localhost:8080/"
        },
        "id": "cGTEhCTLK-H2",
        "outputId": "aec57b22-cdbc-47d8-de16-5d666973ad4e"
      },
      "execution_count": 25,
      "outputs": [
        {
          "output_type": "execute_result",
          "data": {
            "text/plain": [
              "torch.Size([4, 10])"
            ]
          },
          "metadata": {},
          "execution_count": 25
        }
      ]
    },
    {
      "cell_type": "code",
      "source": [
        "w1.grad=None\n",
        "b1.grad=None\n",
        "\n",
        "for i in [conv_out,patch,relu_conv_out,pool_conv_out,z1,z1_max,norm_z1,exp_z1,exp_sum,probs,logprobs,exp_sum_inv,flatten_conv_out]:\n",
        "  i.retain_grad()\n",
        "loss.backward()"
      ],
      "metadata": {
        "id": "Ir8mMXoI3CQF"
      },
      "execution_count": 26,
      "outputs": []
    },
    {
      "cell_type": "code",
      "source": [
        "dlogprobs=torch.zeros_like(logprobs)\n",
        "dlogprobs[range(len(test_data)),test_label]=-1.0/len(test_data)\n",
        "dprobs=(1.0/probs)*dlogprobs\n",
        "dexp_sum_inv=(exp_z1*dprobs).sum(1,keepdim=True)\n",
        "dexp_z1=exp_sum_inv*dprobs\n",
        "dexp_sum=(-exp_sum**-2)*dexp_sum_inv\n",
        "dexp_z1+=torch.ones_like(exp_z1)*dexp_sum\n",
        "dnorm_z1=torch.exp(norm_z1)*dexp_z1\n",
        "dz1=dnorm_z1.clone()\n",
        "dz1_max=(-dnorm_z1).sum(1,keepdim=True)\n",
        "dz1+=torch.nn.functional.one_hot(z1.max(1).indices,num_classes=z1.shape[1])*dz1_max\n",
        "dw1=flatten_conv_out.T@dz1\n",
        "db1=dz1.sum(0)\n",
        "dflatten_conv_out=dz1@w1.T\n",
        "\n",
        "dpool_conv_out=dflatten_conv_out.reshape(pool_conv_out.shape)\n",
        "drelu_conv_out=torch.zeros_like(relu_conv_out)\n",
        "\n",
        "\n",
        "for b in range(batch_size):\n",
        "  for i in range(num_channel):\n",
        "    y_tmp=y_out=0\n",
        "    while y_tmp+pool_kernel_size_height <= height:\n",
        "      x_tmp=x_out=0\n",
        "      while x_tmp+pool_kernel_size_width <= width:\n",
        "        patch=relu_conv_out[b,i,y_tmp:y_tmp+pool_kernel_size_height,x_tmp:x_tmp+pool_kernel_size_width]\n",
        "        max_value=torch.max(patch)\n",
        "        positions = torch.nonzero(patch == max_value, as_tuple=False)\n",
        "        positions_list = [tuple(pos.tolist()) for pos in positions]\n",
        "        for p in positions_list:\n",
        "          drelu_conv_out[b,i,y_tmp+p[0],x_tmp+p[1]]+=dpool_conv_out[b,i,y_out,x_out]/len(positions_list)\n",
        "        x_tmp += pool_stride_width\n",
        "        x_out +=1\n",
        "      y_tmp += pool_stride_height\n",
        "      y_out +=1\n",
        "\n",
        "dconv_out=conv_out.clone()\n",
        "dconv_out=torch.where(dconv_out<=0,0,1)*drelu_conv_out\n",
        "\n",
        "\n",
        "\n",
        "dfilters=torch.zeros_like(filters)\n",
        "batch_size,channel,kernel_size_hight,kernel_size_width=dconv_out.shape\n",
        "for b in range(batch_size):\n",
        "  for i in range(filters.shape[0]):\n",
        "    for j in range(1):\n",
        "      y_tmp=y_out=0\n",
        "      while y_tmp+kernel_size_hight <= input_dim_hight:\n",
        "        x_tmp=x_out=0\n",
        "        while x_tmp+kernel_size_width <= input_dim_width:\n",
        "          patch=test_data[b,:,y_tmp:y_tmp+kernel_size_hight,x_tmp:x_tmp+kernel_size_width]\n",
        "          dfilters[i,j,y_out,x_out]+=torch.sum(dconv_out[b]*patch)\n",
        "          x_tmp += stride_width\n",
        "          x_out +=1\n",
        "        y_tmp +=stride_hight\n",
        "        y_out +=1\n",
        "\n",
        "\n",
        "print(\"From Loss to Fully Connected Layer\")\n",
        "cmp(\"dlogprobs\",dlogprobs,logprobs)\n",
        "cmp(\"dprobs\",dprobs,probs)\n",
        "cmp(\"dexp_sum_inv\",dexp_sum_inv,exp_sum_inv)\n",
        "cmp(\"dexp_sum\",dexp_sum,exp_sum)\n",
        "cmp(\"dexp_z1\",dexp_z1,exp_z1)\n",
        "cmp(\"dnorm_z1\",dnorm_z1,norm_z1)\n",
        "cmp(\"dz1_max\",dz1_max,z1_max)\n",
        "cmp(\"dz1\",dz1,z1)\n",
        "cmp(\"dw1\",dw1,w1)\n",
        "cmp(\"db1\",db1,b1)\n",
        "cmp(\"dflatten_conv_out\",dflatten_conv_out,flatten_conv_out)\n",
        "\n",
        "print()\n",
        "print(\"From Fully Connected Layer to ReLu Activation\")\n",
        "cmp(\"dpool_conv_out\",dpool_conv_out,pool_conv_out)\n",
        "cmp(\"drelu_conv_out\",drelu_conv_out,relu_conv_out)\n",
        "cmp(\"dconv_out\",dconv_out,conv_out)\n",
        "cmp(\"dfilters\",dfilters,filters)"
      ],
      "metadata": {
        "colab": {
          "base_uri": "https://localhost:8080/"
        },
        "id": "52WtnMVW3Qze",
        "outputId": "eec393a2-c1f8-4956-ce76-a02c5a2db3bc"
      },
      "execution_count": 27,
      "outputs": [
        {
          "output_type": "stream",
          "name": "stdout",
          "text": [
            "From Loss to Fully Connected Layer\n",
            "dlogprobs       | exact: True  | approximate: True  | maxdiff: 0.0\n",
            "dprobs          | exact: True  | approximate: True  | maxdiff: 0.0\n",
            "dexp_sum_inv    | exact: True  | approximate: True  | maxdiff: 0.0\n",
            "dexp_sum        | exact: True  | approximate: True  | maxdiff: 0.0\n",
            "dexp_z1         | exact: True  | approximate: True  | maxdiff: 0.0\n",
            "dnorm_z1        | exact: True  | approximate: True  | maxdiff: 0.0\n",
            "dz1_max         | exact: True  | approximate: True  | maxdiff: 0.0\n",
            "dz1             | exact: True  | approximate: True  | maxdiff: 0.0\n",
            "dw1             | exact: True  | approximate: True  | maxdiff: 0.0\n",
            "db1             | exact: True  | approximate: True  | maxdiff: 0.0\n",
            "dflatten_conv_out | exact: True  | approximate: True  | maxdiff: 0.0\n",
            "\n",
            "From Fully Connected Layer to ReLu Activation\n",
            "dpool_conv_out  | exact: True  | approximate: True  | maxdiff: 0.0\n",
            "drelu_conv_out  | exact: True  | approximate: True  | maxdiff: 0.0\n",
            "dconv_out       | exact: True  | approximate: True  | maxdiff: 0.0\n",
            "dfilters        | exact: False | approximate: True  | maxdiff: 5.587935447692871e-09\n"
          ]
        }
      ]
    }
  ]
}